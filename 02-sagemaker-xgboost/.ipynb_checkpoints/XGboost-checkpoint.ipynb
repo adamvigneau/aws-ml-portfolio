{
 "cells": [
  {
   "cell_type": "code",
   "execution_count": 1,
   "id": "04a12d46-9895-47e7-95a9-ed96975974b6",
   "metadata": {
    "execution": {
     "iopub.execute_input": "2025-10-24T17:22:48.635542Z",
     "iopub.status.busy": "2025-10-24T17:22:48.635261Z",
     "iopub.status.idle": "2025-10-24T17:22:49.673385Z",
     "shell.execute_reply": "2025-10-24T17:22:49.671903Z",
     "shell.execute_reply.started": "2025-10-24T17:22:48.635520Z"
    }
   },
   "outputs": [
    {
     "name": "stdout",
     "output_type": "stream",
     "text": [
      "Original shape: (891, 12)\n"
     ]
    },
    {
     "data": {
      "text/html": [
       "<div>\n",
       "<style scoped>\n",
       "    .dataframe tbody tr th:only-of-type {\n",
       "        vertical-align: middle;\n",
       "    }\n",
       "\n",
       "    .dataframe tbody tr th {\n",
       "        vertical-align: top;\n",
       "    }\n",
       "\n",
       "    .dataframe thead th {\n",
       "        text-align: right;\n",
       "    }\n",
       "</style>\n",
       "<table border=\"1\" class=\"dataframe\">\n",
       "  <thead>\n",
       "    <tr style=\"text-align: right;\">\n",
       "      <th></th>\n",
       "      <th>PassengerId</th>\n",
       "      <th>Survived</th>\n",
       "      <th>Pclass</th>\n",
       "      <th>Name</th>\n",
       "      <th>Sex</th>\n",
       "      <th>Age</th>\n",
       "      <th>SibSp</th>\n",
       "      <th>Parch</th>\n",
       "      <th>Ticket</th>\n",
       "      <th>Fare</th>\n",
       "      <th>Cabin</th>\n",
       "      <th>Embarked</th>\n",
       "    </tr>\n",
       "  </thead>\n",
       "  <tbody>\n",
       "    <tr>\n",
       "      <th>0</th>\n",
       "      <td>1</td>\n",
       "      <td>0</td>\n",
       "      <td>3</td>\n",
       "      <td>Braund, Mr. Owen Harris</td>\n",
       "      <td>male</td>\n",
       "      <td>22.0</td>\n",
       "      <td>1</td>\n",
       "      <td>0</td>\n",
       "      <td>A/5 21171</td>\n",
       "      <td>7.2500</td>\n",
       "      <td>NaN</td>\n",
       "      <td>S</td>\n",
       "    </tr>\n",
       "    <tr>\n",
       "      <th>1</th>\n",
       "      <td>2</td>\n",
       "      <td>1</td>\n",
       "      <td>1</td>\n",
       "      <td>Cumings, Mrs. John Bradley (Florence Briggs Th...</td>\n",
       "      <td>female</td>\n",
       "      <td>38.0</td>\n",
       "      <td>1</td>\n",
       "      <td>0</td>\n",
       "      <td>PC 17599</td>\n",
       "      <td>71.2833</td>\n",
       "      <td>C85</td>\n",
       "      <td>C</td>\n",
       "    </tr>\n",
       "    <tr>\n",
       "      <th>2</th>\n",
       "      <td>3</td>\n",
       "      <td>1</td>\n",
       "      <td>3</td>\n",
       "      <td>Heikkinen, Miss. Laina</td>\n",
       "      <td>female</td>\n",
       "      <td>26.0</td>\n",
       "      <td>0</td>\n",
       "      <td>0</td>\n",
       "      <td>STON/O2. 3101282</td>\n",
       "      <td>7.9250</td>\n",
       "      <td>NaN</td>\n",
       "      <td>S</td>\n",
       "    </tr>\n",
       "    <tr>\n",
       "      <th>3</th>\n",
       "      <td>4</td>\n",
       "      <td>1</td>\n",
       "      <td>1</td>\n",
       "      <td>Futrelle, Mrs. Jacques Heath (Lily May Peel)</td>\n",
       "      <td>female</td>\n",
       "      <td>35.0</td>\n",
       "      <td>1</td>\n",
       "      <td>0</td>\n",
       "      <td>113803</td>\n",
       "      <td>53.1000</td>\n",
       "      <td>C123</td>\n",
       "      <td>S</td>\n",
       "    </tr>\n",
       "    <tr>\n",
       "      <th>4</th>\n",
       "      <td>5</td>\n",
       "      <td>0</td>\n",
       "      <td>3</td>\n",
       "      <td>Allen, Mr. William Henry</td>\n",
       "      <td>male</td>\n",
       "      <td>35.0</td>\n",
       "      <td>0</td>\n",
       "      <td>0</td>\n",
       "      <td>373450</td>\n",
       "      <td>8.0500</td>\n",
       "      <td>NaN</td>\n",
       "      <td>S</td>\n",
       "    </tr>\n",
       "  </tbody>\n",
       "</table>\n",
       "</div>"
      ],
      "text/plain": [
       "   PassengerId  Survived  Pclass  \\\n",
       "0            1         0       3   \n",
       "1            2         1       1   \n",
       "2            3         1       3   \n",
       "3            4         1       1   \n",
       "4            5         0       3   \n",
       "\n",
       "                                                Name     Sex   Age  SibSp  \\\n",
       "0                            Braund, Mr. Owen Harris    male  22.0      1   \n",
       "1  Cumings, Mrs. John Bradley (Florence Briggs Th...  female  38.0      1   \n",
       "2                             Heikkinen, Miss. Laina  female  26.0      0   \n",
       "3       Futrelle, Mrs. Jacques Heath (Lily May Peel)  female  35.0      1   \n",
       "4                           Allen, Mr. William Henry    male  35.0      0   \n",
       "\n",
       "   Parch            Ticket     Fare Cabin Embarked  \n",
       "0      0         A/5 21171   7.2500   NaN        S  \n",
       "1      0          PC 17599  71.2833   C85        C  \n",
       "2      0  STON/O2. 3101282   7.9250   NaN        S  \n",
       "3      0            113803  53.1000  C123        S  \n",
       "4      0            373450   8.0500   NaN        S  "
      ]
     },
     "execution_count": 1,
     "metadata": {},
     "output_type": "execute_result"
    }
   ],
   "source": [
    "import pandas as pd\n",
    "import numpy as np\n",
    "\n",
    "# Load data\n",
    "df = pd.read_csv('train.csv')\n",
    "print(f\"Original shape: {df.shape}\")\n",
    "df.head()\n"
   ]
  },
  {
   "cell_type": "code",
   "execution_count": 2,
   "id": "2e8a481d-cf01-4e5a-948d-d72ba3b24ec2",
   "metadata": {
    "execution": {
     "iopub.execute_input": "2025-10-24T17:22:59.678299Z",
     "iopub.status.busy": "2025-10-24T17:22:59.678035Z",
     "iopub.status.idle": "2025-10-24T17:22:59.692994Z",
     "shell.execute_reply": "2025-10-24T17:22:59.692382Z",
     "shell.execute_reply.started": "2025-10-24T17:22:59.678276Z"
    }
   },
   "outputs": [
    {
     "name": "stdout",
     "output_type": "stream",
     "text": [
      "Features shape: (891, 6)\n",
      "Target shape: (891,)\n"
     ]
    }
   ],
   "source": [
    "# Handle missing values\n",
    "df['Age'] = df['Age'].fillna(df['Age'].median())\n",
    "df['Fare'] = df['Fare'].fillna(df['Fare'].median())\n",
    "\n",
    "# Encode Sex\n",
    "df['Sex'] = df['Sex'].map({'male': 0, 'female': 1})\n",
    "\n",
    "# Select features\n",
    "features = ['Pclass', 'Sex', 'Age', 'SibSp', 'Parch', 'Fare']\n",
    "X = df[features]\n",
    "y = df['Survived']\n",
    "\n",
    "print(f\"Features shape: {X.shape}\")\n",
    "print(f\"Target shape: {y.shape}\")"
   ]
  },
  {
   "cell_type": "code",
   "execution_count": 3,
   "id": "d302afff-7db4-4071-8f6a-061dad368b4c",
   "metadata": {
    "execution": {
     "iopub.execute_input": "2025-10-24T17:23:17.858069Z",
     "iopub.status.busy": "2025-10-24T17:23:17.857787Z",
     "iopub.status.idle": "2025-10-24T17:23:17.873067Z",
     "shell.execute_reply": "2025-10-24T17:23:17.872359Z",
     "shell.execute_reply.started": "2025-10-24T17:23:17.858049Z"
    }
   },
   "outputs": [
    {
     "name": "stdout",
     "output_type": "stream",
     "text": [
      "First few rows of training data:\n",
      "   Survived  Pclass  Sex   Age  SibSp  Parch     Fare\n",
      "0         0       3    0  22.0      1      0   7.2500\n",
      "1         1       1    1  38.0      1      0  71.2833\n",
      "2         1       3    1  26.0      0      0   7.9250\n",
      "3         1       1    1  35.0      1      0  53.1000\n",
      "4         0       3    0  35.0      0      0   8.0500\n",
      "\n",
      "Shape: (891, 7)\n"
     ]
    }
   ],
   "source": [
    "# CRITICAL: For SageMaker, target must be FIRST column\n",
    "# No headers, no index\n",
    "train_data = pd.concat([y, X], axis=1)\n",
    "\n",
    "# Save locally first\n",
    "train_data.to_csv('titanic_train.csv', header=False, index=False)\n",
    "\n",
    "print(\"First few rows of training data:\")\n",
    "print(train_data.head())\n",
    "print(f\"\\nShape: {train_data.shape}\")"
   ]
  },
  {
   "cell_type": "code",
   "execution_count": 4,
   "id": "00c0bfff-0d9d-4e4b-ae06-516be2735289",
   "metadata": {
    "execution": {
     "iopub.execute_input": "2025-10-24T17:23:33.834383Z",
     "iopub.status.busy": "2025-10-24T17:23:33.834112Z",
     "iopub.status.idle": "2025-10-24T17:23:36.718518Z",
     "shell.execute_reply": "2025-10-24T17:23:36.717867Z",
     "shell.execute_reply.started": "2025-10-24T17:23:33.834359Z"
    }
   },
   "outputs": [
    {
     "name": "stdout",
     "output_type": "stream",
     "text": [
      "sagemaker.config INFO - Not applying SDK defaults from location: /etc/xdg/sagemaker/config.yaml\n",
      "sagemaker.config INFO - Not applying SDK defaults from location: /home/sagemaker-user/.config/sagemaker/config.yaml\n",
      "Using bucket: sagemaker-us-west-2-854757836160\n",
      "Region: us-west-2\n"
     ]
    }
   ],
   "source": [
    "import sagemaker\n",
    "import boto3\n",
    "\n",
    "# Initialize session\n",
    "sess = sagemaker.Session()\n",
    "bucket = sess.default_bucket()\n",
    "prefix = 'titanic-xgboost'\n",
    "\n",
    "print(f\"Using bucket: {bucket}\")\n",
    "print(f\"Region: {sess.boto_region_name}\")"
   ]
  },
  {
   "cell_type": "code",
   "execution_count": 5,
   "id": "be0d736e-e44d-47b2-b208-bd9fc3ddc530",
   "metadata": {
    "execution": {
     "iopub.execute_input": "2025-10-24T17:23:49.365083Z",
     "iopub.status.busy": "2025-10-24T17:23:49.364815Z",
     "iopub.status.idle": "2025-10-24T17:23:49.493834Z",
     "shell.execute_reply": "2025-10-24T17:23:49.493207Z",
     "shell.execute_reply.started": "2025-10-24T17:23:49.365062Z"
    }
   },
   "outputs": [
    {
     "name": "stdout",
     "output_type": "stream",
     "text": [
      "Training data uploaded to: s3://sagemaker-us-west-2-854757836160/titanic-xgboost/data/titanic_train.csv\n"
     ]
    }
   ],
   "source": [
    "# Upload the CSV to S3\n",
    "train_path = sess.upload_data(\n",
    "    path='titanic_train.csv',\n",
    "    bucket=bucket,\n",
    "    key_prefix=prefix + '/data'\n",
    ")\n",
    "\n",
    "print(f\"Training data uploaded to: {train_path}\")"
   ]
  },
  {
   "cell_type": "code",
   "execution_count": 6,
   "id": "864049be-aa1b-4b25-8d74-571d6e22f759",
   "metadata": {
    "execution": {
     "iopub.execute_input": "2025-10-24T17:24:13.973142Z",
     "iopub.status.busy": "2025-10-24T17:24:13.972874Z",
     "iopub.status.idle": "2025-10-24T17:24:13.998366Z",
     "shell.execute_reply": "2025-10-24T17:24:13.997683Z",
     "shell.execute_reply.started": "2025-10-24T17:24:13.973121Z"
    }
   },
   "outputs": [
    {
     "name": "stdout",
     "output_type": "stream",
     "text": [
      "Using container: 246618743249.dkr.ecr.us-west-2.amazonaws.com/sagemaker-xgboost:1.5-1\n"
     ]
    }
   ],
   "source": [
    "from sagemaker import image_uris\n",
    "\n",
    "# Get the XGBoost container for your region\n",
    "container = image_uris.retrieve('xgboost', sess.boto_region_name, '1.5-1')\n",
    "print(f\"Using container: {container}\")"
   ]
  },
  {
   "cell_type": "code",
   "execution_count": 7,
   "id": "0d3a6cbe-751e-42e3-93de-33f939b2b469",
   "metadata": {
    "execution": {
     "iopub.execute_input": "2025-10-24T17:24:32.541087Z",
     "iopub.status.busy": "2025-10-24T17:24:32.540818Z",
     "iopub.status.idle": "2025-10-24T17:24:33.024349Z",
     "shell.execute_reply": "2025-10-24T17:24:33.023736Z",
     "shell.execute_reply.started": "2025-10-24T17:24:32.541066Z"
    }
   },
   "outputs": [
    {
     "name": "stdout",
     "output_type": "stream",
     "text": [
      "Using role: arn:aws:iam::854757836160:role/service-role/AmazonSageMaker-ExecutionRole-20251019T120276\n",
      "Estimator created!\n"
     ]
    }
   ],
   "source": [
    "from sagemaker.estimator import Estimator\n",
    "\n",
    "# Get execution role\n",
    "role = sagemaker.get_execution_role()\n",
    "print(f\"Using role: {role}\")\n",
    "\n",
    "# Create XGBoost estimator\n",
    "xgb = Estimator(\n",
    "    image_uri=container,\n",
    "    role=role,\n",
    "    instance_count=1,\n",
    "    instance_type='ml.m5.xlarge',\n",
    "    output_path=f's3://{bucket}/{prefix}/output',\n",
    "    sagemaker_session=sess\n",
    ")\n",
    "\n",
    "print(\"Estimator created!\")"
   ]
  },
  {
   "cell_type": "code",
   "execution_count": 8,
   "id": "2887b946-3c98-4268-9ab1-040ebc1db992",
   "metadata": {
    "execution": {
     "iopub.execute_input": "2025-10-24T17:24:50.649193Z",
     "iopub.status.busy": "2025-10-24T17:24:50.648929Z",
     "iopub.status.idle": "2025-10-24T17:24:50.653070Z",
     "shell.execute_reply": "2025-10-24T17:24:50.652477Z",
     "shell.execute_reply.started": "2025-10-24T17:24:50.649173Z"
    }
   },
   "outputs": [
    {
     "name": "stdout",
     "output_type": "stream",
     "text": [
      "Hyperparameters set!\n",
      "{'objective': 'binary:logistic', 'num_round': 100, 'max_depth': 5, 'eta': 0.2, 'subsample': 0.8, 'eval_metric': 'auc'}\n"
     ]
    }
   ],
   "source": [
    "# Configure XGBoost hyperparameters\n",
    "xgb.set_hyperparameters(\n",
    "    objective='binary:logistic',  # Binary classification\n",
    "    num_round=100,                # Number of boosting rounds\n",
    "    max_depth=5,                  # Tree depth\n",
    "    eta=0.2,                      # Learning rate\n",
    "    subsample=0.8,                # Fraction of data for each tree\n",
    "    eval_metric='auc'             # What to optimize\n",
    ")\n",
    "\n",
    "print(\"Hyperparameters set!\")\n",
    "print(xgb.hyperparameters())"
   ]
  },
  {
   "cell_type": "code",
   "execution_count": 9,
   "id": "6e04d670-3b6c-40fd-8b32-704976aea88d",
   "metadata": {
    "execution": {
     "iopub.execute_input": "2025-10-24T17:25:08.354740Z",
     "iopub.status.busy": "2025-10-24T17:25:08.354472Z",
     "iopub.status.idle": "2025-10-24T17:28:18.805514Z",
     "shell.execute_reply": "2025-10-24T17:28:18.804695Z",
     "shell.execute_reply.started": "2025-10-24T17:25:08.354719Z"
    }
   },
   "outputs": [
    {
     "name": "stderr",
     "output_type": "stream",
     "text": [
      "INFO:sagemaker:Creating training-job with name: sagemaker-xgboost-2025-10-24-17-25-08-356\n"
     ]
    },
    {
     "name": "stdout",
     "output_type": "stream",
     "text": [
      "2025-10-24 17:25:09 Starting - Starting the training job...\n",
      "2025-10-24 17:25:42 Downloading - Downloading input data...\n",
      "2025-10-24 17:26:07 Downloading - Downloading the training image......\n",
      "2025-10-24 17:27:08 Training - Training image download completed. Training in progress.\n",
      "2025-10-24 17:27:08 Uploading - Uploading generated training model\u001b[34m/miniconda3/lib/python3.8/site-packages/xgboost/compat.py:36: FutureWarning: pandas.Int64Index is deprecated and will be removed from pandas in a future version. Use pandas.Index with the appropriate dtype instead.\n",
      "  from pandas import MultiIndex, Int64Index\u001b[0m\n",
      "\u001b[34m[2025-10-24 17:27:00.469 ip-10-2-113-139.us-west-2.compute.internal:7 INFO utils.py:28] RULE_JOB_STOP_SIGNAL_FILENAME: None\u001b[0m\n",
      "\u001b[34m[2025-10-24 17:27:00.492 ip-10-2-113-139.us-west-2.compute.internal:7 INFO profiler_config_parser.py:111] User has disabled profiler.\u001b[0m\n",
      "\u001b[34m[2025-10-24:17:27:00:INFO] Imported framework sagemaker_xgboost_container.training\u001b[0m\n",
      "\u001b[34m[2025-10-24:17:27:00:INFO] Failed to parse hyperparameter eval_metric value auc to Json.\u001b[0m\n",
      "\u001b[34mReturning the value itself\u001b[0m\n",
      "\u001b[34m[2025-10-24:17:27:00:INFO] Failed to parse hyperparameter objective value binary:logistic to Json.\u001b[0m\n",
      "\u001b[34mReturning the value itself\u001b[0m\n",
      "\u001b[34m[2025-10-24:17:27:00:INFO] No GPUs detected (normal if no gpus installed)\u001b[0m\n",
      "\u001b[34m[2025-10-24:17:27:00:INFO] Running XGBoost Sagemaker in algorithm mode\u001b[0m\n",
      "\u001b[34m[2025-10-24:17:27:00:INFO] Determined 0 GPU(s) available on the instance.\u001b[0m\n",
      "\u001b[34m[2025-10-24:17:27:00:INFO] Determined delimiter of CSV input is ','\u001b[0m\n",
      "\u001b[34m[2025-10-24:17:27:00:INFO] files path: /opt/ml/input/data/train\u001b[0m\n",
      "\u001b[34m[2025-10-24:17:27:00:INFO] Determined delimiter of CSV input is ','\u001b[0m\n",
      "\u001b[34m[2025-10-24:17:27:00:INFO] Single node training.\u001b[0m\n",
      "\u001b[34m[2025-10-24:17:27:00:INFO] Train matrix has 891 rows and 6 columns\u001b[0m\n",
      "\u001b[34m[2025-10-24 17:27:00.872 ip-10-2-113-139.us-west-2.compute.internal:7 INFO json_config.py:92] Creating hook from json_config at /opt/ml/input/config/debughookconfig.json.\u001b[0m\n",
      "\u001b[34m[2025-10-24 17:27:00.872 ip-10-2-113-139.us-west-2.compute.internal:7 INFO hook.py:206] tensorboard_dir has not been set for the hook. SMDebug will not be exporting tensorboard summaries.\u001b[0m\n",
      "\u001b[34m[2025-10-24 17:27:00.873 ip-10-2-113-139.us-west-2.compute.internal:7 INFO hook.py:259] Saving to /opt/ml/output/tensors\u001b[0m\n",
      "\u001b[34m[2025-10-24 17:27:00.873 ip-10-2-113-139.us-west-2.compute.internal:7 INFO state_store.py:77] The checkpoint config file /opt/ml/input/config/checkpointconfig.json does not exist.\u001b[0m\n",
      "\u001b[34m[2025-10-24:17:27:00:INFO] Debug hook created from config\u001b[0m\n",
      "\u001b[34m[2025-10-24 17:27:00.885 ip-10-2-113-139.us-west-2.compute.internal:7 INFO hook.py:427] Monitoring the collections: metrics\u001b[0m\n",
      "\u001b[34m[2025-10-24 17:27:00.888 ip-10-2-113-139.us-west-2.compute.internal:7 INFO hook.py:491] Hook is writing from the hook with pid: 7\u001b[0m\n",
      "\u001b[34m[0]#011train-auc:0.87511\u001b[0m\n",
      "\u001b[34m[1]#011train-auc:0.88537\u001b[0m\n",
      "\u001b[34m[2]#011train-auc:0.89496\u001b[0m\n",
      "\u001b[34m[3]#011train-auc:0.89822\u001b[0m\n",
      "\u001b[34m[4]#011train-auc:0.90442\u001b[0m\n",
      "\u001b[34m[5]#011train-auc:0.90533\u001b[0m\n",
      "\u001b[34m[6]#011train-auc:0.90662\u001b[0m\n",
      "\u001b[34m[7]#011train-auc:0.90797\u001b[0m\n",
      "\u001b[34m[8]#011train-auc:0.91041\u001b[0m\n",
      "\u001b[34m[9]#011train-auc:0.92214\u001b[0m\n",
      "\u001b[34m[10]#011train-auc:0.92389\u001b[0m\n",
      "\u001b[34m[11]#011train-auc:0.93090\u001b[0m\n",
      "\u001b[34m[12]#011train-auc:0.93232\u001b[0m\n",
      "\u001b[34m[13]#011train-auc:0.93258\u001b[0m\n",
      "\u001b[34m[14]#011train-auc:0.93351\u001b[0m\n",
      "\u001b[34m[15]#011train-auc:0.93485\u001b[0m\n",
      "\u001b[34m[16]#011train-auc:0.93728\u001b[0m\n",
      "\u001b[34m[17]#011train-auc:0.93934\u001b[0m\n",
      "\u001b[34m[18]#011train-auc:0.94088\u001b[0m\n",
      "\u001b[34m[19]#011train-auc:0.94137\u001b[0m\n",
      "\u001b[34m[20]#011train-auc:0.94180\u001b[0m\n",
      "\u001b[34m[21]#011train-auc:0.94276\u001b[0m\n",
      "\u001b[34m[22]#011train-auc:0.94366\u001b[0m\n",
      "\u001b[34m[23]#011train-auc:0.94424\u001b[0m\n",
      "\u001b[34m[24]#011train-auc:0.94559\u001b[0m\n",
      "\u001b[34m[25]#011train-auc:0.94812\u001b[0m\n",
      "\u001b[34m[26]#011train-auc:0.94902\u001b[0m\n",
      "\u001b[34m[27]#011train-auc:0.95087\u001b[0m\n",
      "\u001b[34m[28]#011train-auc:0.95272\u001b[0m\n",
      "\u001b[34m[29]#011train-auc:0.95406\u001b[0m\n",
      "\u001b[34m[30]#011train-auc:0.95581\u001b[0m\n",
      "\u001b[34m[31]#011train-auc:0.95595\u001b[0m\n",
      "\u001b[34m[32]#011train-auc:0.95672\u001b[0m\n",
      "\u001b[34m[33]#011train-auc:0.95743\u001b[0m\n",
      "\u001b[34m[34]#011train-auc:0.95816\u001b[0m\n",
      "\u001b[34m[35]#011train-auc:0.95926\u001b[0m\n",
      "\u001b[34m[36]#011train-auc:0.96116\u001b[0m\n",
      "\u001b[34m[37]#011train-auc:0.96207\u001b[0m\n",
      "\u001b[34m[38]#011train-auc:0.96288\u001b[0m\n",
      "\u001b[34m[39]#011train-auc:0.96390\u001b[0m\n",
      "\u001b[34m[40]#011train-auc:0.96500\u001b[0m\n",
      "\u001b[34m[41]#011train-auc:0.96595\u001b[0m\n",
      "\u001b[34m[42]#011train-auc:0.96569\u001b[0m\n",
      "\u001b[34m[43]#011train-auc:0.96633\u001b[0m\n",
      "\u001b[34m[44]#011train-auc:0.96698\u001b[0m\n",
      "\u001b[34m[45]#011train-auc:0.96710\u001b[0m\n",
      "\u001b[34m[46]#011train-auc:0.96764\u001b[0m\n",
      "\u001b[34m[47]#011train-auc:0.96777\u001b[0m\n",
      "\u001b[34m[48]#011train-auc:0.96794\u001b[0m\n",
      "\u001b[34m[49]#011train-auc:0.96843\u001b[0m\n",
      "\u001b[34m[50]#011train-auc:0.96920\u001b[0m\n",
      "\u001b[34m[51]#011train-auc:0.96974\u001b[0m\n",
      "\u001b[34m[52]#011train-auc:0.97028\u001b[0m\n",
      "\u001b[34m[53]#011train-auc:0.97084\u001b[0m\n",
      "\u001b[34m[54]#011train-auc:0.97089\u001b[0m\n",
      "\u001b[34m[55]#011train-auc:0.97142\u001b[0m\n",
      "\u001b[34m[56]#011train-auc:0.97171\u001b[0m\n",
      "\u001b[34m[57]#011train-auc:0.97220\u001b[0m\n",
      "\u001b[34m[58]#011train-auc:0.97244\u001b[0m\n",
      "\u001b[34m[59]#011train-auc:0.97253\u001b[0m\n",
      "\u001b[34m[60]#011train-auc:0.97296\u001b[0m\n",
      "\u001b[34m[61]#011train-auc:0.97341\u001b[0m\n",
      "\u001b[34m[62]#011train-auc:0.97364\u001b[0m\n",
      "\u001b[34m[63]#011train-auc:0.97410\u001b[0m\n",
      "\u001b[34m[64]#011train-auc:0.97455\u001b[0m\n",
      "\u001b[34m[65]#011train-auc:0.97538\u001b[0m\n",
      "\u001b[34m[66]#011train-auc:0.97589\u001b[0m\n",
      "\u001b[34m[67]#011train-auc:0.97598\u001b[0m\n",
      "\u001b[34m[68]#011train-auc:0.97701\u001b[0m\n",
      "\u001b[34m[69]#011train-auc:0.97703\u001b[0m\n",
      "\u001b[34m[70]#011train-auc:0.97738\u001b[0m\n",
      "\u001b[34m[71]#011train-auc:0.97801\u001b[0m\n",
      "\u001b[34m[72]#011train-auc:0.97846\u001b[0m\n",
      "\u001b[34m[73]#011train-auc:0.97893\u001b[0m\n",
      "\u001b[34m[74]#011train-auc:0.97939\u001b[0m\n",
      "\u001b[34m[75]#011train-auc:0.97974\u001b[0m\n",
      "\u001b[34m[76]#011train-auc:0.98005\u001b[0m\n",
      "\u001b[34m[77]#011train-auc:0.98053\u001b[0m\n",
      "\u001b[34m[78]#011train-auc:0.98078\u001b[0m\n",
      "\u001b[34m[79]#011train-auc:0.98081\u001b[0m\n",
      "\u001b[34m[80]#011train-auc:0.98150\u001b[0m\n",
      "\u001b[34m[81]#011train-auc:0.98162\u001b[0m\n",
      "\u001b[34m[82]#011train-auc:0.98190\u001b[0m\n",
      "\u001b[34m[83]#011train-auc:0.98222\u001b[0m\n",
      "\u001b[34m[84]#011train-auc:0.98231\u001b[0m\n",
      "\u001b[34m[85]#011train-auc:0.98265\u001b[0m\n",
      "\u001b[34m[86]#011train-auc:0.98279\u001b[0m\n",
      "\u001b[34m[87]#011train-auc:0.98300\u001b[0m\n",
      "\u001b[34m[88]#011train-auc:0.98320\u001b[0m\n",
      "\u001b[34m[89]#011train-auc:0.98341\u001b[0m\n",
      "\u001b[34m[90]#011train-auc:0.98359\u001b[0m\n",
      "\u001b[34m[91]#011train-auc:0.98364\u001b[0m\n",
      "\u001b[34m[92]#011train-auc:0.98378\u001b[0m\n",
      "\u001b[34m[93]#011train-auc:0.98417\u001b[0m\n",
      "\u001b[34m[94]#011train-auc:0.98439\u001b[0m\n",
      "\u001b[34m[95]#011train-auc:0.98466\u001b[0m\n",
      "\u001b[34m[96]#011train-auc:0.98530\u001b[0m\n",
      "\u001b[34m[97]#011train-auc:0.98558\u001b[0m\n",
      "\u001b[34m[98]#011train-auc:0.98555\u001b[0m\n",
      "\u001b[34m[99]#011train-auc:0.98610\u001b[0m\n",
      "\n",
      "2025-10-24 17:27:16 Completed - Training job completed\n",
      "Training seconds: 94\n",
      "Billable seconds: 94\n",
      "Training complete!\n"
     ]
    }
   ],
   "source": [
    "from sagemaker.inputs import TrainingInput\n",
    "\n",
    "# Create training input\n",
    "train_input = TrainingInput(train_path, content_type='text/csv')\n",
    "\n",
    "# Start training job (this takes 2-5 minutes)\n",
    "xgb.fit({'train': train_input})\n",
    "\n",
    "print(\"Training complete!\")"
   ]
  },
  {
   "cell_type": "code",
   "execution_count": 10,
   "id": "3a51debe-3465-40a7-a2f4-b3d55362ff39",
   "metadata": {
    "execution": {
     "iopub.execute_input": "2025-10-24T17:32:14.221059Z",
     "iopub.status.busy": "2025-10-24T17:32:14.220705Z",
     "iopub.status.idle": "2025-10-24T17:35:46.456893Z",
     "shell.execute_reply": "2025-10-24T17:35:46.456195Z",
     "shell.execute_reply.started": "2025-10-24T17:32:14.221027Z"
    }
   },
   "outputs": [
    {
     "name": "stderr",
     "output_type": "stream",
     "text": [
      "INFO:sagemaker:Creating model with name: sagemaker-xgboost-2025-10-24-17-32-14-222\n",
      "INFO:sagemaker:Creating endpoint-config with name sagemaker-xgboost-2025-10-24-17-32-14-222\n",
      "INFO:sagemaker:Creating endpoint with name sagemaker-xgboost-2025-10-24-17-32-14-222\n"
     ]
    },
    {
     "name": "stdout",
     "output_type": "stream",
     "text": [
      "------!Endpoint deployed: sagemaker-xgboost-2025-10-24-17-32-14-222\n"
     ]
    }
   ],
   "source": [
    "# Deploy the model (takes 5-8 minutes)\n",
    "predictor = xgb.deploy(\n",
    "    initial_instance_count=1,\n",
    "    instance_type='ml.m5.xlarge',\n",
    "    serializer=sagemaker.serializers.CSVSerializer()\n",
    ")\n",
    "\n",
    "print(f\"Endpoint deployed: {predictor.endpoint_name}\")"
   ]
  },
  {
   "cell_type": "code",
   "execution_count": 13,
   "id": "d9cdd5b6-f835-47e7-96f2-aef7f9d3b253",
   "metadata": {
    "execution": {
     "iopub.execute_input": "2025-10-24T17:43:30.107316Z",
     "iopub.status.busy": "2025-10-24T17:43:30.107047Z",
     "iopub.status.idle": "2025-10-24T17:43:30.156264Z",
     "shell.execute_reply": "2025-10-24T17:43:30.155639Z",
     "shell.execute_reply.started": "2025-10-24T17:43:30.107294Z"
    }
   },
   "outputs": [
    {
     "name": "stdout",
     "output_type": "stream",
     "text": [
      "3rd class male, age 22: b'0.048332199454307556\\n'\n",
      "1st class female, age 38: b'0.9902986288070679\\n'\n",
      "2nd class male, age 35, alone: b'0.17510028183460236\\n'\n"
     ]
    }
   ],
   "source": [
    "# Test with sample passengers\n",
    "# Format: [Pclass, Sex, Age, SibSp, Parch, Fare]\n",
    "\n",
    "# Example 1: 3rd class male, age 22 (like Jack from Titanic)\n",
    "test_1 = [[3, 0, 22, 1, 0, 7.25]]\n",
    "pred_1 = predictor.predict(test_1)\n",
    "print(f\"3rd class male, age 22: {pred_1}\")\n",
    "\n",
    "# Example 2: 1st class female, age 38 (like Rose)\n",
    "test_2 = [[1, 1, 38, 1, 0, 71.28]]\n",
    "pred_2 = predictor.predict(test_2)\n",
    "print(f\"1st class female, age 38: {pred_2}\")\n",
    "\n",
    "# Example 3: 2nd class male, age 35, traveling alone\n",
    "test_3 = [[2, 0, 35, 0, 0, 13.00]]\n",
    "pred_3 = predictor.predict(test_3)\n",
    "print(f\"2nd class male, age 35, alone: {pred_3}\")\n",
    "\n",
    "# Should return value from 0 to 1, with 0 being likely dead, 1 being likely survived"
   ]
  },
  {
   "cell_type": "code",
   "execution_count": 14,
   "id": "f788fdbb-6e27-487b-b625-8f7ce7b16b29",
   "metadata": {
    "execution": {
     "iopub.execute_input": "2025-10-24T17:43:41.471332Z",
     "iopub.status.busy": "2025-10-24T17:43:41.471072Z",
     "iopub.status.idle": "2025-10-24T17:43:41.899778Z",
     "shell.execute_reply": "2025-10-24T17:43:41.899015Z",
     "shell.execute_reply.started": "2025-10-24T17:43:41.471311Z"
    }
   },
   "outputs": [
    {
     "name": "stderr",
     "output_type": "stream",
     "text": [
      "INFO:sagemaker:Deleting endpoint configuration with name: sagemaker-xgboost-2025-10-24-17-32-14-222\n",
      "INFO:sagemaker:Deleting endpoint with name: sagemaker-xgboost-2025-10-24-17-32-14-222\n"
     ]
    },
    {
     "name": "stdout",
     "output_type": "stream",
     "text": [
      "Endpoint deleted successfully!\n",
      "No more charges will be incurred.\n"
     ]
    }
   ],
   "source": [
    "# DELETE THE ENDPOINT TO STOP CHARGES\n",
    "predictor.delete_endpoint()\n",
    "print(\"Endpoint deleted successfully!\")\n",
    "print(\"No more charges will be incurred.\")"
   ]
  },
  {
   "cell_type": "code",
   "execution_count": 15,
   "id": "974fdf57-a7d0-47d5-815e-b739d4b07631",
   "metadata": {
    "execution": {
     "iopub.execute_input": "2025-10-24T17:43:57.433738Z",
     "iopub.status.busy": "2025-10-24T17:43:57.433458Z",
     "iopub.status.idle": "2025-10-24T17:44:07.594726Z",
     "shell.execute_reply": "2025-10-24T17:44:07.594146Z",
     "shell.execute_reply.started": "2025-10-24T17:43:57.433712Z"
    }
   },
   "outputs": [
    {
     "name": "stdout",
     "output_type": "stream",
     "text": [
      "✅ Endpoint confirmed deleted\n"
     ]
    }
   ],
   "source": [
    "# Check that it's really gone\n",
    "import time\n",
    "time.sleep(10)\n",
    "\n",
    "client = boto3.client('sagemaker')\n",
    "try:\n",
    "    client.describe_endpoint(EndpointName=predictor.endpoint_name)\n",
    "    print(\"⚠️ WARNING: Endpoint still exists!\")\n",
    "except:\n",
    "    print(\"✅ Endpoint confirmed deleted\")"
   ]
  },
  {
   "cell_type": "code",
   "execution_count": null,
   "id": "9335b6fe-895a-4c27-84ef-89cc610f5422",
   "metadata": {},
   "outputs": [],
   "source": []
  }
 ],
 "metadata": {
  "kernelspec": {
   "display_name": "Python 3 (ipykernel)",
   "language": "python",
   "name": "python3"
  },
  "language_info": {
   "codemirror_mode": {
    "name": "ipython",
    "version": 3
   },
   "file_extension": ".py",
   "mimetype": "text/x-python",
   "name": "python",
   "nbconvert_exporter": "python",
   "pygments_lexer": "ipython3",
   "version": "3.12.9"
  }
 },
 "nbformat": 4,
 "nbformat_minor": 5
}
